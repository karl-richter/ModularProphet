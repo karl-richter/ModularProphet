{
 "cells": [
  {
   "cell_type": "code",
   "execution_count": null,
   "metadata": {},
   "outputs": [],
   "source": [
    "import json\n",
    "import numpy as np\n",
    "import pandas as pd\n",
    "import matplotlib.pyplot as plt\n",
    "\n",
    "from modularprophet.containers import Model, Sequential, Ensemble\n",
    "from modularprophet.compositions import Additive, Stationary\n",
    "from modularprophet.components import Trend, Regressor\n",
    "from modularprophet.modules.ar_net import LaggedNet\n",
    "from modularprophet.modules.seasonality import FourierSeasonality\n",
    "from modularprophet.forecaster import ModularProphet"
   ]
  },
  {
   "cell_type": "code",
   "execution_count": null,
   "metadata": {},
   "outputs": [],
   "source": [
    "df = pd.read_csv(\"https://raw.githubusercontent.com/ourownstory/neuralprophet-data/main/datasets/air_passengers.csv\")"
   ]
  },
  {
   "cell_type": "code",
   "execution_count": null,
   "metadata": {},
   "outputs": [],
   "source": [
    "m = ModularProphet(\n",
    "    Sequential(\n",
    "        Trend(),\n",
    "        FourierSeasonality(\"yearly\", period=365.25, series_order = 5, growth=\"linear\"),\n",
    "        #LaggedNet(n_lags=5)\n",
    "    )\n",
    ")\n",
    "m"
   ]
  },
  {
   "cell_type": "code",
   "execution_count": null,
   "metadata": {},
   "outputs": [],
   "source": [
    "m.fit(df, n_forecasts=10, learning_rate=0.1)"
   ]
  },
  {
   "cell_type": "code",
   "execution_count": null,
   "metadata": {},
   "outputs": [],
   "source": [
    "x, y, y_hat, components = m.predict(df[:15])"
   ]
  },
  {
   "cell_type": "code",
   "execution_count": null,
   "metadata": {},
   "outputs": [],
   "source": [
    "pd.DataFrame(y).T.plot()"
   ]
  },
  {
   "cell_type": "code",
   "execution_count": null,
   "metadata": {},
   "outputs": [],
   "source": [
    "pd.DataFrame(y_hat.T).plot()"
   ]
  },
  {
   "attachments": {},
   "cell_type": "markdown",
   "metadata": {},
   "source": [
    "### Convert Predictions to Readable Format"
   ]
  },
  {
   "cell_type": "code",
   "execution_count": null,
   "metadata": {},
   "outputs": [],
   "source": [
    "def array_to_df(name, array):\n",
    "    df = pd.DataFrame(array)\n",
    "    df.columns = [f\"{name}_({c + 1})\" for c in df.columns]\n",
    "    return df\n",
    "\n",
    "def long_to_staircase_df(df):\n",
    "    n_shifts = [\"\".join(filter(str.isdigit, c)) for c in list(df.columns)]\n",
    "    n_shifts = [int(c)-1 if c != \"\" else 0 for c in n_shifts]\n",
    "    for i in range(max(n_shifts)):\n",
    "        df = pd.concat([df, pd.Series(np.nan, dtype=np.float32)], axis=0, ignore_index=True)\n",
    "    for col, shifts in zip(df.columns, n_shifts):\n",
    "        df[col] = df[col].shift(shifts)\n",
    "    df.drop([0], axis=1, inplace=True)\n",
    "    return df"
   ]
  },
  {
   "cell_type": "code",
   "execution_count": null,
   "metadata": {},
   "outputs": [],
   "source": [
    "prediction_df = {name: array_to_df(name, c) for name, c in components.items()}\n",
    "prediction_df = pd.concat(prediction_df.values(), axis=1)\n",
    "staircase_df = long_to_staircase_df(prediction_df)"
   ]
  },
  {
   "cell_type": "code",
   "execution_count": null,
   "metadata": {},
   "outputs": [],
   "source": [
    "y_df = pd.concat([pd.DataFrame(y[:,0], columns=[\"y\"], dtype=np.float32), pd.DataFrame(y[-1][1:], columns=[\"y\"])], axis=0, ignore_index=True)\n",
    "x_df = pd.concat([pd.DataFrame(x[:,0], columns=[\"x\"], dtype=np.float32), pd.DataFrame(x[-1][1:], columns=[\"x\"])], axis=0, ignore_index=True)\n",
    "\n",
    "staircase_df = pd.concat([\n",
    "    staircase_df,\n",
    "    y_df,\n",
    "    x_df,\n",
    "], axis=1)"
   ]
  },
  {
   "cell_type": "code",
   "execution_count": null,
   "metadata": {},
   "outputs": [],
   "source": [
    "staircase_df"
   ]
  },
  {
   "cell_type": "code",
   "execution_count": null,
   "metadata": {},
   "outputs": [],
   "source": [
    "staircase_df.plot(x=\"x\", colormap=\"viridis_r\")"
   ]
  },
  {
   "attachments": {},
   "cell_type": "markdown",
   "metadata": {},
   "source": [
    "### Evaluate Average Error per Forecast Step"
   ]
  },
  {
   "cell_type": "code",
   "execution_count": null,
   "metadata": {},
   "outputs": [],
   "source": [
    "error_df = staircase_df.copy()\n",
    "for col in [c for c in error_df.columns if c != \"x\"]:\n",
    "    error_df[col] = (error_df[col] - staircase_df[\"y\"])**2\n",
    "res = error_df.mean()\n",
    "res[[c for c in error_df.columns if \"y_hat\" in c]].plot.bar()"
   ]
  },
  {
   "attachments": {},
   "cell_type": "markdown",
   "metadata": {},
   "source": [
    "### Backtesting with rolling origin and re-fitting"
   ]
  },
  {
   "cell_type": "code",
   "execution_count": null,
   "metadata": {},
   "outputs": [],
   "source": [
    "def calculate_metrics(y, y_hat, naive, seasonal_naive):\n",
    "    mae = 1/len(y) * np.sum(np.abs(y - y_hat))\n",
    "    rmse = np.sqrt(1/len(y) *np.sum((y - y_hat)**2))\n",
    "    mase = 1/len(y) * np.sum(np.abs(y - y_hat) / (1/len(y) * np.sum(np.abs(y - naive))))\n",
    "    smase = 1/len(y) * np.sum(np.abs(y - y_hat) / (1/len(y) * np.sum(np.abs(y - seasonal_naive))))\n",
    "    mape = 1/len(y) * np.sum(np.abs(y - y_hat) / y)\n",
    "    return {\"MAE\": mae, \"RMSE\": rmse, \"MASE\": mase, \"sMASE\": smase, \"MAPE\": mape}\n",
    "\n",
    "def naive_forecasts(train_df, seasonal_cycle, n_forecasts):\n",
    "    # Extract the last value from the training set and repeat it n_forecasts times\n",
    "    naive = train_df[\"y\"].tail(1).values * np.ones(n_forecasts)\n",
    "    # Extract the last seasonal_cycle values from the training set and repeat them n_forecasts // seasonal_cycle + 1 times\n",
    "    seasonal_naive = np.tile(train_df[\"y\"].tail(seasonal_cycle).values, n_forecasts // seasonal_cycle + 1)[:n_forecasts]\n",
    "    return naive, seasonal_naive\n",
    "\n",
    "def split_data(df, i, holdout, n_forecasts, n_lags):\n",
    "    train_df = df[i:-holdout+n_forecasts+i]\n",
    "    eval_df = df[-holdout+n_forecasts-n_lags+i:].head(n_forecasts + n_lags)\n",
    "    y = eval_df[\"y\"].values[-n_forecasts:]\n",
    "    return train_df, eval_df, y"
   ]
  },
  {
   "cell_type": "code",
   "execution_count": null,
   "metadata": {},
   "outputs": [],
   "source": [
    "n_forecasts = 10\n",
    "n_lags = 6\n",
    "holdout = 44\n",
    "seasonal_cycle = 12\n",
    "num_splits = (holdout - 2 * n_forecasts) + 1\n",
    "metrics = {}\n",
    "predictions = []\n",
    "\n",
    "for i in range(0, num_splits):\n",
    "    train_df, eval_df, y = split_data(df, i, holdout, n_forecasts, n_lags)\n",
    "    m = ModularProphet(\n",
    "        Additive(\n",
    "            Trend(),\n",
    "            FourierSeasonality(\"yearly\", period=365.25, series_order = 5, growth=\"linear\"), # growth=\"linear\" #multiply_with=\"Trend\"\n",
    "            LaggedNet(n_lags=n_lags)\n",
    "        )\n",
    "    )\n",
    "    m.fit(train_df, n_forecasts=10, learning_rate=0.1) # optimizer=\"adam\",\n",
    "    # Evaluation\n",
    "    _, _, y_hat, _ = m.predict(eval_df)\n",
    "    prediction = y_hat.squeeze(0)\n",
    "    predictions.append(np.pad(prediction, (i, num_splits-i), mode=\"constant\", constant_values=(np.nan)))\n",
    "    # Metrics\n",
    "    naive, seasonal_naive = naive_forecasts(train_df, seasonal_cycle, n_forecasts)\n",
    "    metrics[i] = calculate_metrics(y, prediction, naive, seasonal_naive)"
   ]
  },
  {
   "cell_type": "code",
   "execution_count": null,
   "metadata": {},
   "outputs": [],
   "source": [
    "predictions_combined = pd.DataFrame(np.array(predictions)).T[:-1]\n",
    "predictions_combined[\"y\"] = df[-len(predictions_combined):][\"y\"].values\n",
    "predictions_combined.plot(colormap=\"Blues\")"
   ]
  },
  {
   "cell_type": "code",
   "execution_count": null,
   "metadata": {},
   "outputs": [],
   "source": [
    "pd.DataFrame(metrics).T[[\"MAE\", \"RMSE\"]].plot.bar()"
   ]
  },
  {
   "cell_type": "code",
   "execution_count": null,
   "metadata": {},
   "outputs": [],
   "source": [
    "pd.DataFrame(metrics).T[[\"MAPE\"]].plot.bar()"
   ]
  },
  {
   "cell_type": "code",
   "execution_count": null,
   "metadata": {},
   "outputs": [],
   "source": [
    "pd.DataFrame(metrics).T[[\"MASE\", \"sMASE\"]].plot.bar()"
   ]
  }
 ],
 "metadata": {
  "kernelspec": {
   "display_name": "xyz",
   "language": "python",
   "name": "python3"
  },
  "language_info": {
   "codemirror_mode": {
    "name": "ipython",
    "version": 3
   },
   "file_extension": ".py",
   "mimetype": "text/x-python",
   "name": "python",
   "nbconvert_exporter": "python",
   "pygments_lexer": "ipython3",
   "version": "3.9.6"
  },
  "orig_nbformat": 4
 },
 "nbformat": 4,
 "nbformat_minor": 2
}
