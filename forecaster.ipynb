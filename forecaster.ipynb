{
 "cells": [
  {
   "cell_type": "code",
   "execution_count": 1,
   "metadata": {},
   "outputs": [],
   "source": [
    "from modularprophet.containers import Model, Sequential, Ensemble\n",
    "from modularprophet.compositions import Additive, Stationary\n",
    "from modularprophet.components import Trend, Regressor\n",
    "from modularprophet.forecaster import ModularProphet"
   ]
  },
  {
   "cell_type": "code",
   "execution_count": 2,
   "metadata": {},
   "outputs": [],
   "source": [
    "model_additive = Additive(\n",
    "    Trend(),\n",
    "    Regressor(),\n",
    ")\n",
    "\n",
    "model_stationary = Stationary(\n",
    "    Trend(),\n",
    "    Regressor(),\n",
    ")"
   ]
  },
  {
   "cell_type": "code",
   "execution_count": 3,
   "metadata": {},
   "outputs": [
    {
     "data": {
      "text/plain": [
       "Model(\n",
       "\tAdditive(\n",
       "\t\t(trend): Trend('linear', None, 10, 0.8, 0, False, 'global')\n",
       "\t\t(regressor_01): Regressor('regressor_01',)\n",
       "\t)\n",
       ")"
      ]
     },
     "execution_count": 3,
     "metadata": {},
     "output_type": "execute_result"
    }
   ],
   "source": [
    "ModularProphet(model_additive)"
   ]
  },
  {
   "cell_type": "code",
   "execution_count": 4,
   "metadata": {},
   "outputs": [],
   "source": [
    "simple_model = Model(\n",
    "    Trend(),\n",
    ")\n",
    "\n",
    "additive_model = Model(\n",
    "    model_additive\n",
    ")\n",
    "\n",
    "sequential_model = Sequential(\n",
    "    Trend(),\n",
    "    Regressor(),\n",
    ")\n",
    "ensemble_model = Ensemble(model_additive, model_stationary)"
   ]
  },
  {
   "cell_type": "code",
   "execution_count": 5,
   "metadata": {},
   "outputs": [
    {
     "data": {
      "text/plain": [
       "Ensemble(\n",
       "\t(Additive(\n",
       "\t\t(trend): Trend('linear', None, 10, 0.8, 0, False, 'global')\n",
       "\t\t(regressor_01): Regressor('regressor_01',)\n",
       "\t), Stationary(\n",
       "\t\t(trend): Trend('linear', None, 10, 0.8, 0, False, 'global')\n",
       "\t\t(regressor_01): Regressor('regressor_01',)\n",
       "\t))\n",
       ")"
      ]
     },
     "execution_count": 5,
     "metadata": {},
     "output_type": "execute_result"
    }
   ],
   "source": [
    "ModularProphet(ensemble_model)"
   ]
  }
 ],
 "metadata": {
  "kernelspec": {
   "display_name": "xyz",
   "language": "python",
   "name": "python3"
  },
  "language_info": {
   "codemirror_mode": {
    "name": "ipython",
    "version": 3
   },
   "file_extension": ".py",
   "mimetype": "text/x-python",
   "name": "python",
   "nbconvert_exporter": "python",
   "pygments_lexer": "ipython3",
   "version": "3.9.6"
  },
  "orig_nbformat": 4
 },
 "nbformat": 4,
 "nbformat_minor": 2
}
